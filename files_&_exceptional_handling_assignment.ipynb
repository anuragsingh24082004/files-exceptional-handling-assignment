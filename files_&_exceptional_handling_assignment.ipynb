{
  "nbformat": 4,
  "nbformat_minor": 0,
  "metadata": {
    "colab": {
      "provenance": [],
      "authorship_tag": "ABX9TyM45sx438BRRO7A3k+EXvsk",
      "include_colab_link": true
    },
    "kernelspec": {
      "name": "python3",
      "display_name": "Python 3"
    },
    "language_info": {
      "name": "python"
    }
  },
  "cells": [
    {
      "cell_type": "markdown",
      "metadata": {
        "id": "view-in-github",
        "colab_type": "text"
      },
      "source": [
        "<a href=\"https://colab.research.google.com/github/anuragsingh24082004/files-exceptional-handling-assignment/blob/main/files_%26_exceptional_handling_assignment.ipynb\" target=\"_parent\"><img src=\"https://colab.research.google.com/assets/colab-badge.svg\" alt=\"Open In Colab\"/></a>"
      ]
    },
    {
      "cell_type": "markdown",
      "source": [
        "# Q1- DISCUSS THE SCENARIOS WHERE MULTITHREADING IS PREFERABLE TO MULTIPROCESSING AND SCENARIOS WHERE MULTIPROCESSING IS BETTER CHOICE ."
      ],
      "metadata": {
        "id": "sss7pi0FtroM"
      }
    },
    {
      "cell_type": "markdown",
      "source": [
        "ANSWER - MULTITHREADING IS PREFERABLE TO MULTPROCESSING IN SOME SCENARIOS SUCH AS -\n",
        "\n",
        "*   SHARED MEMORY - WHEN TASKS NEED TO SHARE DATA FREQUENTLY AND EFFICIENTLY. THREADS SHARE THE SAME MEMORY SPACE , MAKING DATA SHARING EASIER AND FASTER\n",
        "*   I/O BOUND TASKS - WHEN THE PROGRAM SPENDS A LOT TIME WAITING FOR INPUT/OUTPUT OPERATIONS , SUCH AS READING FROM OR WRITING TO FILES , NETWORK OPERATIONS , OR DATABASE QUERIES. MULTITHREADING CAN HELP UTILIZE THE WAITING TIME BY EXECUTING OTHER THREADS.\n",
        "\n"
      ],
      "metadata": {
        "id": "fXZPkzlquLuR"
      }
    },
    {
      "cell_type": "markdown",
      "source": [
        "# WHILE IN SOME CASES MULTIPROCESSING IS PREFERABLE TO MULTITHREADING SUCH AS -\n",
        "\n",
        "*   ISOLATION - WHEN TASKS NEED TO BE ISOLATED FROM EACH OTHER TO AVOID INTERFERENCE . EACH PROCESS HAS ITS OWN MEMORY SPACE, PROVIDING BETTER ISOLATION AND FAULT TOLERANCE.\n",
        "*  CPU USING TASKS - FOR COMPUTATIONALLY INTENSIVE TASKS THAT REQUIRE SIGNIFICANT PROCESSING POWER. MULTIPROCESSING CAN UTILIZE MULTIPLE CPU CORES TO EXECUTE TASKS IN PARALLEL,IMPROVING PERFORMANCE .\n",
        "\n"
      ],
      "metadata": {
        "id": "8wSU8SBG05xk"
      }
    },
    {
      "cell_type": "markdown",
      "source": [
        "# Q2- DESCRIBE WHAT A PROCESS POOL IS AND HOW IT HELPS IN MANAGING MULTIPLE PROCESS EFFICIENTLY ."
      ],
      "metadata": {
        "id": "H3ALrpTzuO55"
      }
    },
    {
      "cell_type": "markdown",
      "source": [
        "ANSWER- PROCESS POOL IS A COLLECTION OF WORKER PROCESSES THAT CAN BE USED TO EXECUTE TASKS IN PARALLEL. IT HELPS IN MANAGING MULTIPLE PROCESSES EFFICIENTLY BY\n",
        "\n",
        "*   AUTOMATICALLY MANGING WORKER PROCESSES\n",
        "*   REDUCING OVERHEAD\n",
        "*   LOAD BALANCING\n",
        "*   SIMPLIFYING PARALLEL EXECUTION\n",
        "\n",
        "\n",
        "\n"
      ],
      "metadata": {
        "id": "0txQFnWk2MRO"
      }
    },
    {
      "cell_type": "markdown",
      "source": [
        "# Q3- EXPLAIN WHAT MULTIPROCESSING IS AND WHY IT IS USED IN PYTHON PROGRAMS ."
      ],
      "metadata": {
        "id": "LH6VCmM1uh6i"
      }
    },
    {
      "cell_type": "markdown",
      "source": [
        "ANSWER- MULTIPROCESSING IS A TECHNIQUE THAT INVOLVES USING MULTIPLE PROCESSES TO EXECUTE CODE CONCURRENTLY. IN PYTHON, IT IS USED TO BYPASS THE GLOBAL INTERPRETER LOCK (GIL) AND LEVERAGE MULTIPLE CPU CORES FOR INTENSIVE COMPUTING TASKS1.\n",
        "\n",
        "WHY IT IS USED IN PYTHON PROGRAMS:\n",
        "\n",
        "* PARALLELISM: MULTIPROCESSING ALLOWS PROGRAMS TO RUN MULTIPLE PROCESSES IN PARALLEL, UTILIZING MULTIPLE CPU CORES AND IMPROVING PERFORMANCE FOR CPU-BOUND TASKS\n",
        "\n",
        "* ISOLATION: EACH PROCESS HAS ITS OWN MEMORY SPACE, PROVIDING BETTER ISOLATION AND FAULT TOLERANCE. THIS IS USEFUL FOR TASKS THAT NEED TO BE ISOLATED FROM EACH OTHER\n",
        "\n",
        "* GIL LIMITATION: PYTHON’S GIL CAN LIMIT THE PERFORMANCE OF MULTITHREADED PROGRAMS. MULTIPROCESSING USES SEPARATE PROCESSES, EACH WITH ITS OWN PYTHON INTERPRETER AND GIL, THEREBY AVOIDING THIS LIMITATION"
      ],
      "metadata": {
        "id": "z1LoYGMT3dmQ"
      }
    },
    {
      "cell_type": "markdown",
      "source": [
        "# Q4-WRITE A PYTHON PROGRAM USING MULTITHREADING WHERE ONE THREAD ADDS NUMBERS TO A LIST , AND ANOTHER THREAD REMOVES NUMBERS FROM THE LIST. IMPLEMENT A MECHANISM TO AVOID RACE CONDITIONS USING threading.lock ."
      ],
      "metadata": {
        "id": "cfPIDIpSuxux"
      }
    },
    {
      "cell_type": "markdown",
      "source": [
        "ANSWER-"
      ],
      "metadata": {
        "id": "xNeTXtM24T5Z"
      }
    },
    {
      "cell_type": "code",
      "source": [
        "import threading\n",
        "import time\n",
        "\n",
        "numbers = []\n",
        "lock = threading.Lock()\n",
        "\n",
        "def add_numbers():\n",
        "    for i in range(10):\n",
        "        with lock:\n",
        "            numbers.append(i)\n",
        "            print(f\"Added {i}\")\n",
        "        time.sleep(1)\n",
        "\n",
        "def remove_numbers():\n",
        "    for i in range(10):\n",
        "        with lock:\n",
        "            if numbers:\n",
        "                removed = numbers.pop(0)\n",
        "                print(f\"Removed {removed}\")\n",
        "        time.sleep(1.5)\n",
        "\n",
        "thread1 = threading.Thread(target=add_numbers)\n",
        "thread2 = threading.Thread(target=remove_numbers)\n",
        "\n",
        "thread1.start()\n",
        "thread2.start()\n",
        "\n",
        "thread1.join()\n",
        "thread2.join()\n",
        "\n",
        "print(\"Final list:\", numbers)\n"
      ],
      "metadata": {
        "colab": {
          "base_uri": "https://localhost:8080/"
        },
        "id": "Wp084MvC4mZh",
        "outputId": "d67155ca-0493-41f0-92fa-301b1aa912ef"
      },
      "execution_count": 1,
      "outputs": [
        {
          "output_type": "stream",
          "name": "stdout",
          "text": [
            "Added 0\n",
            "Removed 0\n",
            "Added 1\n",
            "Removed 1\n",
            "Added 2\n",
            "Removed 2\n",
            "Added 3\n",
            "Added 4\n",
            "Removed 3\n",
            "Added 5\n",
            "Removed 4\n",
            "Added 6\n",
            "Added 7\n",
            "Removed 5\n",
            "Added 8\n",
            "Removed 6\n",
            "Added 9\n",
            "Removed 7\n",
            "Removed 8\n",
            "Removed 9\n",
            "Final list: []\n"
          ]
        }
      ]
    },
    {
      "cell_type": "markdown",
      "source": [
        "# Q5- DESCRIBE THE METHODS AND TOOLS AVAILABLE IN PYTHON FOR SAFELY SHARING DATA BETWEEN THREADS AND PROCESSES."
      ],
      "metadata": {
        "id": "NiqwvikpvYgu"
      }
    },
    {
      "cell_type": "markdown",
      "source": [
        "ANSWER - METHODS AND TOOLS AVAILABLE IN PYTHON FOR SAFELY SHARING DATA BETWEEN THREADS AND PROCESSES -\n",
        "\n",
        "\n",
        "*   multiprocessing.Pipe: CREATES A PAIR OF CONNECTION OBJECTS THAT CAN BE USED FOR TWO-WAY COMMUNICATION BETWEEN PROCESSES\n",
        "\n",
        "*   multiprocessing.Queue: ALLOWS PROCESSES TO COMMUNICATE BY PASSING MESSAGES OR DATA SAFELY BETWEEN THEM.\n",
        "\n",
        "*  multiprocessing.Value: CREATES A SHARED VALUE THAT CAN BE SAFELY MODIFIED BY MULTIPLE PROCESSES\n",
        "\n",
        "* multiprocessing.Array: CREATES A SHARED ARRAY THAT CAN BE SAFELY MODIFIED BY MULTIPLE PROCESSES"
      ],
      "metadata": {
        "id": "f5rnONSA5DBw"
      }
    },
    {
      "cell_type": "markdown",
      "source": [
        "# Q6- DISCUSS WHY IT'S CRUCIAL TO HANDLE EXCEPTIONS IN CONCURRENT PROGRAMS AND THE TECHNIQUES AVAILABLE FOR DOING SO ."
      ],
      "metadata": {
        "id": "7hQVOKsevrd-"
      }
    },
    {
      "cell_type": "markdown",
      "source": [
        "ANSWEER -  IT IS CRUCIAL TO HANDLE EXCEPTIONS IN CONCURRENT PROGRAMS TO MAINTAIN PROGRAM STABILITY , ENSURING DATA INTEGRITY , RESOURCES MANAGEMENT AND DEBUGGING AND MAINTENANCE.\n",
        "\n",
        "TECHNIQUES FOR HANDLING EXCEPTIONS IN CONCURRENT PROGRAMS:\n",
        "\n",
        "* TASK-BASED CONTINUATIONS: IN FRAMEWORKS LIKE .NET OR JAVA, USE TASK-BASED CONTINUATIONS TO HANDLE EXCEPTIONS IN ASYNCHRONOUS TASKS\n",
        "\n",
        "* TRY/CATCH BLOCKS: SURROUND CRITICAL SECTIONS OF CODE WITH TRY/CATCH BLOCKS TO HANDLE EXCEPTIONS LOCALLY\n",
        "\n",
        "* THREAD-SAFE QUEUES: USE THREAD-SAFE QUEUES TO PASS EXCEPTIONS FROM WORKER THREADS TO A CENTRALIZED ERROR-HANDLING THREAD\n",
        "\n",
        "* FUTURES AND PROMISES: USE FUTURES AND PROMISES TO PROPAGATE EXCEPTIONS FROM ASYNCHRONOUS TASKS TO THE CALLING THREAD\n"
      ],
      "metadata": {
        "id": "aAWAhyAi5zj5"
      }
    },
    {
      "cell_type": "markdown",
      "source": [
        "# Q7- CREATE A PROGRAM THAT USES A THREAD POOL TO CALCULATE THE FACTORIAL OF NUMBERS FROM 1 TO 10 CONCURRENTLY . USE concurrent.futures THREADPOOLEXECUTOR TO MANAGE THE THREADS."
      ],
      "metadata": {
        "id": "8FhdtPLHwF5T"
      }
    },
    {
      "cell_type": "code",
      "source": [
        "# ANSWER -\n",
        "\n",
        "import concurrent.futures\n",
        "import math\n",
        "\n",
        "def factorial(n):\n",
        "    return math.factorial(n)\n",
        "\n",
        "numbers = range(1, 11)\n",
        "\n",
        "with concurrent.futures.ThreadPoolExecutor() as executor:\n",
        "    results = list(executor.map(factorial, numbers))\n",
        "\n",
        "print(results)\n"
      ],
      "metadata": {
        "colab": {
          "base_uri": "https://localhost:8080/"
        },
        "id": "k0710DhV7W_-",
        "outputId": "081d4014-3f43-4ae7-e838-4b9b59e373ae"
      },
      "execution_count": 2,
      "outputs": [
        {
          "output_type": "stream",
          "name": "stdout",
          "text": [
            "[1, 2, 6, 24, 120, 720, 5040, 40320, 362880, 3628800]\n"
          ]
        }
      ]
    },
    {
      "cell_type": "markdown",
      "source": [
        "# Q8- CREATE A PYTHON PROGRAM THAT USES multiprocessing.pool TO COMPUTE THE SQUARE OF NUMMBERS FROM 1 TO 10 IN PARALLEL. MEASURE THE TIME TAKEN TO PERFORM THIS COMPUTATION USING A POOL OF DIFFERENT SIZES(eg.,2,4,8 processes)."
      ],
      "metadata": {
        "id": "0gran4-Vwmzf"
      }
    },
    {
      "cell_type": "code",
      "execution_count": 3,
      "metadata": {
        "colab": {
          "base_uri": "https://localhost:8080/"
        },
        "id": "qE9-sciltkin",
        "outputId": "4188f72f-5e7a-42d1-b95a-890f69b2add4"
      },
      "outputs": [
        {
          "output_type": "stream",
          "name": "stdout",
          "text": [
            "Pool size: 2, Time taken: 0.0524 seconds, Results: [1, 4, 9, 16, 25, 36, 49, 64, 81, 100]\n",
            "Pool size: 4, Time taken: 0.0569 seconds, Results: [1, 4, 9, 16, 25, 36, 49, 64, 81, 100]\n",
            "Pool size: 8, Time taken: 0.1053 seconds, Results: [1, 4, 9, 16, 25, 36, 49, 64, 81, 100]\n"
          ]
        }
      ],
      "source": [
        "# ANSWER -\n",
        "\n",
        "import multiprocessing\n",
        "import time\n",
        "\n",
        "def compute_square(n):\n",
        "    return n * n\n",
        "\n",
        "def measure_time(pool_size):\n",
        "    numbers = range(1, 11)\n",
        "    start_time = time.time()\n",
        "\n",
        "    with multiprocessing.Pool(processes=pool_size) as pool:\n",
        "        results = pool.map(compute_square, numbers)\n",
        "\n",
        "    end_time = time.time()\n",
        "    print(f\"Pool size: {pool_size}, Time taken: {end_time - start_time:.4f} seconds, Results: {results}\")\n",
        "\n",
        "if __name__ == \"__main__\":\n",
        "    for size in [2, 4, 8]:\n",
        "        measure_time(size)\n"
      ]
    }
  ]
}